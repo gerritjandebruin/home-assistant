{
 "cells": [
  {
   "cell_type": "code",
   "execution_count": 13,
   "id": "preliminary-wallace",
   "metadata": {},
   "outputs": [],
   "source": [
    "import datetime\n",
    "\n",
    "import matplotlib.pyplot as plt\n",
    "import numpy as np\n",
    "import pandas as pd\n",
    "import seaborn as sns\n",
    "from tqdm.auto import tqdm\n",
    "\n",
    "def read_data():\n",
    "    query = f\"\"\"\n",
    "                SELECT domain, entity_id, state, last_changed, attributes\n",
    "                FROM states\n",
    "                WHERE\n",
    "                    entity_id IS 'sensor.voltmeter'\n",
    "                ORDER BY last_changed DESC\n",
    "                \"\"\"\n",
    "\n",
    "    return (\n",
    "        pd.read_sql_query(query, 'sqlite:////config/home-assistant_v2.db')\n",
    "        .assign(last_changed=lambda x: pd.to_datetime(x['last_changed']))\n",
    "        .sort_values('last_changed')\n",
    "        .replace({'state': {'unavailable': np.nan, 'unknown': np.nan}})\n",
    "        .astype({'state': float})\n",
    "        .set_index('last_changed')\n",
    "        ['state']\n",
    "    )"
   ]
  },
  {
   "cell_type": "code",
   "execution_count": 25,
   "id": "consolidated-arabic",
   "metadata": {},
   "outputs": [],
   "source": [
    "input_experiments = [\n",
    "    {'sample_rate': .001, 'moving median': 1,      'begin_time': pd.Timestamp('2021-09-13 12:06'), 'end_time': pd.Timestamp('2021-09-13 12:22')},\n",
    "    {'sample_rate': .001, 'moving median': 10,     'begin_time': pd.Timestamp('2021-09-13 12:28'), 'end_time': pd.Timestamp('2021-09-13 12:45')},\n",
    "    {'sample_rate': .001, 'moving median': 100,    'begin_time': pd.Timestamp('2021-09-13 12:48'), 'end_time': pd.Timestamp('2021-09-13 13:03')}, \n",
    "#     {'sample_rate': .001, 'moving median': 1_000,  'begin_time': pd.Timestamp('2021-09-13 12:06'), 'end_time': pd.Timestamp('2021-09-13 12:22')},\n",
    "#     {'sample_rate': .001, 'moving median': 10_000, 'begin_time': pd.Timestamp('2021-09-13 12:24'), 'end_time': pd.Timestamp('2021-09-13 12:39')},\n",
    "#     {'sample_rate': .1,   'moving median': 1,      'begin_time': pd.Timestamp('2021-09-13 12:06'), 'end_time': pd.Timestamp('2021-09-13 12:22')},\n",
    "#     {'sample_rate': .1,   'moving median': 10,     'begin_time': pd.Timestamp('2021-09-13 12:24'), 'end_time': pd.Timestamp('2021-09-13 12:39')},\n",
    "#     {'sample_rate': .1,   'moving median': 100,    'begin_time': pd.Timestamp('2021-09-13 12:24'), 'end_time': pd.Timestamp('2021-09-13 12:39')}, \n",
    "#     {'sample_rate': 1,    'moving median': 1,      'begin_time': pd.Timestamp('2021-09-13 12:06'), 'end_time': pd.Timestamp('2021-09-13 12:22')},\n",
    "#     {'sample_rate': 1,    'moving median': 10,     'begin_time': pd.Timestamp('2021-09-13 12:24'), 'end_time': pd.Timestamp('2021-09-13 12:39')},\n",
    "]"
   ]
  },
  {
   "cell_type": "code",
   "execution_count": 16,
   "id": "abstract-clinton",
   "metadata": {},
   "outputs": [],
   "source": [
    "df = read_data()"
   ]
  },
  {
   "cell_type": "code",
   "execution_count": 26,
   "id": "circular-baghdad",
   "metadata": {},
   "outputs": [
    {
     "data": {
      "application/vnd.jupyter.widget-view+json": {
       "model_id": "6572003dcd7740f8bed47594a506a694",
       "version_major": 2,
       "version_minor": 0
      },
      "text/plain": [
       "  0%|          | 0/2 [00:00<?, ?it/s]"
      ]
     },
     "metadata": {},
     "output_type": "display_data"
    }
   ],
   "source": [
    "output_experiments = []\n",
    "for experiment in tqdm(input_experiments):\n",
    "    df_selected = df.loc[lambda x: (experiment['begin_time'] < x.index) & (experiment['end_time'] > x.index)]\n",
    "    output_experiments.append({'sample_rate': experiment['sample_rate'], 'moving median': experiment['moving median'], 'rstd': df_selected.std()/df_selected.median(), 'med': df_selected.median()})"
   ]
  },
  {
   "cell_type": "code",
   "execution_count": 27,
   "id": "divine-weight",
   "metadata": {},
   "outputs": [
    {
     "data": {
      "text/html": [
       "<div>\n",
       "<style scoped>\n",
       "    .dataframe tbody tr th:only-of-type {\n",
       "        vertical-align: middle;\n",
       "    }\n",
       "\n",
       "    .dataframe tbody tr th {\n",
       "        vertical-align: top;\n",
       "    }\n",
       "\n",
       "    .dataframe thead th {\n",
       "        text-align: right;\n",
       "    }\n",
       "</style>\n",
       "<table border=\"1\" class=\"dataframe\">\n",
       "  <thead>\n",
       "    <tr style=\"text-align: right;\">\n",
       "      <th></th>\n",
       "      <th>sample_rate</th>\n",
       "      <th>moving median</th>\n",
       "      <th>rstd</th>\n",
       "      <th>med</th>\n",
       "    </tr>\n",
       "  </thead>\n",
       "  <tbody>\n",
       "    <tr>\n",
       "      <th>0</th>\n",
       "      <td>0.001</td>\n",
       "      <td>1</td>\n",
       "      <td>0.039947</td>\n",
       "      <td>1.03</td>\n",
       "    </tr>\n",
       "    <tr>\n",
       "      <th>1</th>\n",
       "      <td>0.001</td>\n",
       "      <td>10</td>\n",
       "      <td>0.026007</td>\n",
       "      <td>1.03</td>\n",
       "    </tr>\n",
       "  </tbody>\n",
       "</table>\n",
       "</div>"
      ],
      "text/plain": [
       "   sample_rate  moving median      rstd   med\n",
       "0        0.001              1  0.039947  1.03\n",
       "1        0.001             10  0.026007  1.03"
      ]
     },
     "execution_count": 27,
     "metadata": {},
     "output_type": "execute_result"
    }
   ],
   "source": [
    "pd.DataFrame(output_experiments)"
   ]
  },
  {
   "cell_type": "code",
   "execution_count": null,
   "id": "valued-superintendent",
   "metadata": {},
   "outputs": [],
   "source": []
  }
 ],
 "metadata": {
  "kernelspec": {
   "display_name": "Python 3",
   "language": "python",
   "name": "python3"
  },
  "language_info": {
   "codemirror_mode": {
    "name": "ipython",
    "version": 3
   },
   "file_extension": ".py",
   "mimetype": "text/x-python",
   "name": "python",
   "nbconvert_exporter": "python",
   "pygments_lexer": "ipython3",
   "version": "3.7.3"
  }
 },
 "nbformat": 4,
 "nbformat_minor": 5
}
