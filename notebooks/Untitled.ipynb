{
 "cells": [
  {
   "cell_type": "code",
   "execution_count": 3,
   "id": "658d6515-b2d2-4009-8164-7b64486ee24d",
   "metadata": {},
   "outputs": [],
   "source": [
    "from influxdb_client import InfluxDBClient\n",
    "import pandas as pd"
   ]
  },
  {
   "cell_type": "code",
   "execution_count": 4,
   "id": "e0874ba9-5396-45ee-9289-89d835cf1147",
   "metadata": {},
   "outputs": [],
   "source": [
    "import influxdb_client\n",
    "from influxdb_client.client.write_api import SYNCHRONOUS"
   ]
  },
  {
   "cell_type": "code",
   "execution_count": 6,
   "id": "7465f354-a5c6-4a40-a45f-987a80e3a1ae",
   "metadata": {},
   "outputs": [],
   "source": [
    "client = influxdb_client.InfluxDBClient(\"http://localhost:8086\", token=\"ko93me98\",)"
   ]
  },
  {
   "cell_type": "code",
   "execution_count": 8,
   "id": "b06a2700-18d9-4216-949b-df94be1ec703",
   "metadata": {},
   "outputs": [],
   "source": [
    "query_api = client.query_api()"
   ]
  },
  {
   "cell_type": "code",
   "execution_count": 9,
   "id": "67e556ae-3cdb-4ca4-9911-5af6148420b7",
   "metadata": {},
   "outputs": [],
   "source": [
    "query = ' from(bucket:\"my-bucket\")\\\n",
    "|> range(start: -10m)\\\n",
    "|> filter(fn:(r) => r._measurement == \"my_measurement\")\\\n",
    "|> filter(fn: (r) => r.location == \"Prague\")\\\n",
    "|> filter(fn:(r) => r._field == \"temperature\" ) '"
   ]
  },
  {
   "cell_type": "code",
   "execution_count": null,
   "id": "149b12e7-be5e-4e27-abd4-b227fb5877c3",
   "metadata": {},
   "outputs": [],
   "source": []
  }
 ],
 "metadata": {
  "kernelspec": {
   "display_name": "Python 3 (ipykernel)",
   "language": "python",
   "name": "python3"
  },
  "language_info": {
   "codemirror_mode": {
    "name": "ipython",
    "version": 3
   },
   "file_extension": ".py",
   "mimetype": "text/x-python",
   "name": "python",
   "nbconvert_exporter": "python",
   "pygments_lexer": "ipython3",
   "version": "3.9.2"
  }
 },
 "nbformat": 4,
 "nbformat_minor": 5
}
