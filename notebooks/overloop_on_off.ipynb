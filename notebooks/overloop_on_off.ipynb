{
 "cells": [
  {
   "cell_type": "code",
   "execution_count": 22,
   "id": "indian-heart",
   "metadata": {},
   "outputs": [],
   "source": [
    "import pandas as pd\n",
    "query = f\"\"\"\n",
    "            SELECT domain, entity_id, state, last_changed, attributes\n",
    "            FROM states\n",
    "            WHERE\n",
    "                domain IN ('binary_sensor')\n",
    "                AND\n",
    "                entity_id IS 'binary_sensor.overloop_on_off'\n",
    "            ORDER BY last_changed DESC\n",
    "            \"\"\"\n",
    "df = pd.read_sql_query(query, 'sqlite:////config/home-assistant_v2.db')"
   ]
  },
  {
   "cell_type": "code",
   "execution_count": 48,
   "id": "bacterial-combination",
   "metadata": {
    "collapsed": true,
    "jupyter": {
     "outputs_hidden": true
    }
   },
   "outputs": [
    {
     "data": {
      "text/html": [
       "<div>\n",
       "<style scoped>\n",
       "    .dataframe tbody tr th:only-of-type {\n",
       "        vertical-align: middle;\n",
       "    }\n",
       "\n",
       "    .dataframe tbody tr th {\n",
       "        vertical-align: top;\n",
       "    }\n",
       "\n",
       "    .dataframe thead th {\n",
       "        text-align: right;\n",
       "    }\n",
       "</style>\n",
       "<table border=\"1\" class=\"dataframe\">\n",
       "  <thead>\n",
       "    <tr style=\"text-align: right;\">\n",
       "      <th></th>\n",
       "      <th>domain</th>\n",
       "      <th>entity_id</th>\n",
       "      <th>state</th>\n",
       "      <th>last_changed</th>\n",
       "      <th>attributes</th>\n",
       "    </tr>\n",
       "  </thead>\n",
       "  <tbody>\n",
       "    <tr>\n",
       "      <th>2563</th>\n",
       "      <td>binary_sensor</td>\n",
       "      <td>binary_sensor.overloop_on_off</td>\n",
       "      <td>unavailable</td>\n",
       "      <td>2021-01-03 20:27:11.064598</td>\n",
       "      <td>{\"restored\": true, \"supported_features\": 0, \"d...</td>\n",
       "    </tr>\n",
       "    <tr>\n",
       "      <th>2562</th>\n",
       "      <td>binary_sensor</td>\n",
       "      <td>binary_sensor.overloop_on_off</td>\n",
       "      <td>off</td>\n",
       "      <td>2021-01-03 20:27:26.676924</td>\n",
       "      <td>{\"friendly_name\": \"Overloop beweging on_off\", ...</td>\n",
       "    </tr>\n",
       "    <tr>\n",
       "      <th>2561</th>\n",
       "      <td>binary_sensor</td>\n",
       "      <td>binary_sensor.overloop_on_off</td>\n",
       "      <td>on</td>\n",
       "      <td>2021-01-03 20:31:35.044197</td>\n",
       "      <td>{\"friendly_name\": \"Overloop beweging on_off\", ...</td>\n",
       "    </tr>\n",
       "    <tr>\n",
       "      <th>2560</th>\n",
       "      <td>binary_sensor</td>\n",
       "      <td>binary_sensor.overloop_on_off</td>\n",
       "      <td>off</td>\n",
       "      <td>2021-01-03 20:34:35.040478</td>\n",
       "      <td>{\"friendly_name\": \"Overloop beweging on_off\", ...</td>\n",
       "    </tr>\n",
       "    <tr>\n",
       "      <th>2559</th>\n",
       "      <td>binary_sensor</td>\n",
       "      <td>binary_sensor.overloop_on_off</td>\n",
       "      <td>on</td>\n",
       "      <td>2021-01-03 21:04:08.365312</td>\n",
       "      <td>{\"friendly_name\": \"Overloop beweging on_off\", ...</td>\n",
       "    </tr>\n",
       "    <tr>\n",
       "      <th>...</th>\n",
       "      <td>...</td>\n",
       "      <td>...</td>\n",
       "      <td>...</td>\n",
       "      <td>...</td>\n",
       "      <td>...</td>\n",
       "    </tr>\n",
       "    <tr>\n",
       "      <th>4</th>\n",
       "      <td>binary_sensor</td>\n",
       "      <td>binary_sensor.overloop_on_off</td>\n",
       "      <td>off</td>\n",
       "      <td>2021-02-07 15:39:47.930889</td>\n",
       "      <td>{\"friendly_name\": \"Overloop beweging on_off\", ...</td>\n",
       "    </tr>\n",
       "    <tr>\n",
       "      <th>3</th>\n",
       "      <td>binary_sensor</td>\n",
       "      <td>binary_sensor.overloop_on_off</td>\n",
       "      <td>on</td>\n",
       "      <td>2021-02-07 15:52:27.646544</td>\n",
       "      <td>{\"friendly_name\": \"Overloop beweging on_off\", ...</td>\n",
       "    </tr>\n",
       "    <tr>\n",
       "      <th>2</th>\n",
       "      <td>binary_sensor</td>\n",
       "      <td>binary_sensor.overloop_on_off</td>\n",
       "      <td>off</td>\n",
       "      <td>2021-02-07 15:55:27.643563</td>\n",
       "      <td>{\"friendly_name\": \"Overloop beweging on_off\", ...</td>\n",
       "    </tr>\n",
       "    <tr>\n",
       "      <th>1</th>\n",
       "      <td>binary_sensor</td>\n",
       "      <td>binary_sensor.overloop_on_off</td>\n",
       "      <td>on</td>\n",
       "      <td>2021-02-07 16:10:25.189464</td>\n",
       "      <td>{\"friendly_name\": \"Overloop beweging on_off\", ...</td>\n",
       "    </tr>\n",
       "    <tr>\n",
       "      <th>0</th>\n",
       "      <td>binary_sensor</td>\n",
       "      <td>binary_sensor.overloop_on_off</td>\n",
       "      <td>off</td>\n",
       "      <td>2021-02-07 16:17:41.595809</td>\n",
       "      <td>{\"friendly_name\": \"Overloop beweging on_off\", ...</td>\n",
       "    </tr>\n",
       "  </tbody>\n",
       "</table>\n",
       "<p>2564 rows × 5 columns</p>\n",
       "</div>"
      ],
      "text/plain": [
       "             domain                      entity_id        state  \\\n",
       "2563  binary_sensor  binary_sensor.overloop_on_off  unavailable   \n",
       "2562  binary_sensor  binary_sensor.overloop_on_off          off   \n",
       "2561  binary_sensor  binary_sensor.overloop_on_off           on   \n",
       "2560  binary_sensor  binary_sensor.overloop_on_off          off   \n",
       "2559  binary_sensor  binary_sensor.overloop_on_off           on   \n",
       "...             ...                            ...          ...   \n",
       "4     binary_sensor  binary_sensor.overloop_on_off          off   \n",
       "3     binary_sensor  binary_sensor.overloop_on_off           on   \n",
       "2     binary_sensor  binary_sensor.overloop_on_off          off   \n",
       "1     binary_sensor  binary_sensor.overloop_on_off           on   \n",
       "0     binary_sensor  binary_sensor.overloop_on_off          off   \n",
       "\n",
       "                    last_changed  \\\n",
       "2563  2021-01-03 20:27:11.064598   \n",
       "2562  2021-01-03 20:27:26.676924   \n",
       "2561  2021-01-03 20:31:35.044197   \n",
       "2560  2021-01-03 20:34:35.040478   \n",
       "2559  2021-01-03 21:04:08.365312   \n",
       "...                          ...   \n",
       "4     2021-02-07 15:39:47.930889   \n",
       "3     2021-02-07 15:52:27.646544   \n",
       "2     2021-02-07 15:55:27.643563   \n",
       "1     2021-02-07 16:10:25.189464   \n",
       "0     2021-02-07 16:17:41.595809   \n",
       "\n",
       "                                             attributes  \n",
       "2563  {\"restored\": true, \"supported_features\": 0, \"d...  \n",
       "2562  {\"friendly_name\": \"Overloop beweging on_off\", ...  \n",
       "2561  {\"friendly_name\": \"Overloop beweging on_off\", ...  \n",
       "2560  {\"friendly_name\": \"Overloop beweging on_off\", ...  \n",
       "2559  {\"friendly_name\": \"Overloop beweging on_off\", ...  \n",
       "...                                                 ...  \n",
       "4     {\"friendly_name\": \"Overloop beweging on_off\", ...  \n",
       "3     {\"friendly_name\": \"Overloop beweging on_off\", ...  \n",
       "2     {\"friendly_name\": \"Overloop beweging on_off\", ...  \n",
       "1     {\"friendly_name\": \"Overloop beweging on_off\", ...  \n",
       "0     {\"friendly_name\": \"Overloop beweging on_off\", ...  \n",
       "\n",
       "[2564 rows x 5 columns]"
      ]
     },
     "execution_count": 48,
     "metadata": {},
     "output_type": "execute_result"
    }
   ],
   "source": [
    "df.sort_values('last_changed', inplace=True)\n",
    "df"
   ]
  },
  {
   "cell_type": "code",
   "execution_count": 49,
   "id": "subsequent-teddy",
   "metadata": {},
   "outputs": [
    {
     "data": {
      "text/plain": [
       "off            1269\n",
       "on             1264\n",
       "unavailable      31\n",
       "Name: state, dtype: int64"
      ]
     },
     "execution_count": 49,
     "metadata": {},
     "output_type": "execute_result"
    }
   ],
   "source": [
    "df['state'].value_counts()"
   ]
  },
  {
   "cell_type": "code",
   "execution_count": 50,
   "id": "transsexual-telling",
   "metadata": {},
   "outputs": [
    {
     "data": {
      "text/plain": [
       "True     2528\n",
       "False      35\n",
       "Name: state, dtype: int64"
      ]
     },
     "execution_count": 50,
     "metadata": {},
     "output_type": "execute_result"
    }
   ],
   "source": [
    "(df['state'] == 'on').diff().value_counts()"
   ]
  },
  {
   "cell_type": "code",
   "execution_count": 77,
   "id": "sharp-nurse",
   "metadata": {},
   "outputs": [
    {
     "data": {
      "text/plain": [
       "Text(0.5, 8.95999999999998, 'Minutes')"
      ]
     },
     "execution_count": 77,
     "metadata": {},
     "output_type": "execute_result"
    },
    {
     "data": {
      "image/png": "[encoded data removed]",
      "text/plain": [
       "<Figure size 360x360 with 1 Axes>"
      ]
     },
     "metadata": {},
     "output_type": "display_data"
    }
   ],
   "source": [
    "import seaborn as sns\n",
    "sns.set(rc={'figure.figsize':(20,8)})\n",
    "sns.displot((pd.to_datetime(df['last_changed']).diff()[df['state'] == 'off']).dt.seconds / 60, kind='ecdf', rug=True)\n",
    "import matplotlib.pyplot as plt\n",
    "plt.xlabel('Minutes')"
   ]
  },
  {
   "cell_type": "code",
   "execution_count": null,
   "id": "settled-softball",
   "metadata": {},
   "outputs": [],
   "source": []
  }
 ],
 "metadata": {
  "kernelspec": {
   "display_name": "Python 3",
   "language": "python",
   "name": "python3"
  },
  "language_info": {
   "codemirror_mode": {
    "name": "ipython",
    "version": 3
   },
   "file_extension": ".py",
   "mimetype": "text/x-python",
   "name": "python",
   "nbconvert_exporter": "python",
   "pygments_lexer": "ipython3",
   "version": "3.7.3"
  }
 },
 "nbformat": 4,
 "nbformat_minor": 5
}
